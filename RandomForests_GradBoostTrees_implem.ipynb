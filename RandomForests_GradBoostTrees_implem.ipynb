{
 "cells": [
  {
   "cell_type": "code",
   "execution_count": 1,
   "metadata": {},
   "outputs": [],
   "source": [
    "import pandas as pd\n",
    "import numpy as np"
   ]
  },
  {
   "cell_type": "code",
   "execution_count": 3,
   "metadata": {},
   "outputs": [],
   "source": [
    "data = pd.read_csv(\"stocks_prepared_dataset.csv\").drop([\"Unnamed: 0\",\"Name\"],axis=1)"
   ]
  },
  {
   "cell_type": "code",
   "execution_count": 4,
   "metadata": {},
   "outputs": [
    {
     "data": {
      "text/html": [
       "<div>\n",
       "<style scoped>\n",
       "    .dataframe tbody tr th:only-of-type {\n",
       "        vertical-align: middle;\n",
       "    }\n",
       "\n",
       "    .dataframe tbody tr th {\n",
       "        vertical-align: top;\n",
       "    }\n",
       "\n",
       "    .dataframe thead th {\n",
       "        text-align: right;\n",
       "    }\n",
       "</style>\n",
       "<table border=\"1\" class=\"dataframe\">\n",
       "  <thead>\n",
       "    <tr style=\"text-align: right;\">\n",
       "      <th></th>\n",
       "      <th>Unnamed: 0.1</th>\n",
       "      <th>T1</th>\n",
       "      <th>T2</th>\n",
       "      <th>T3</th>\n",
       "      <th>T4</th>\n",
       "      <th>T5</th>\n",
       "      <th>T6</th>\n",
       "      <th>T7</th>\n",
       "      <th>T8</th>\n",
       "      <th>T9</th>\n",
       "      <th>...</th>\n",
       "      <th>T23</th>\n",
       "      <th>T24</th>\n",
       "      <th>T25</th>\n",
       "      <th>T26</th>\n",
       "      <th>T27</th>\n",
       "      <th>T28</th>\n",
       "      <th>T29</th>\n",
       "      <th>T30</th>\n",
       "      <th>T31</th>\n",
       "      <th>Label</th>\n",
       "    </tr>\n",
       "  </thead>\n",
       "  <tbody>\n",
       "    <tr>\n",
       "      <th>0</th>\n",
       "      <td>2009-12-16</td>\n",
       "      <td>1.250608</td>\n",
       "      <td>1.247874</td>\n",
       "      <td>1.109464</td>\n",
       "      <td>1.104664</td>\n",
       "      <td>1.635328</td>\n",
       "      <td>1.627841</td>\n",
       "      <td>1.720588</td>\n",
       "      <td>1.773613</td>\n",
       "      <td>1.794562</td>\n",
       "      <td>...</td>\n",
       "      <td>1.300995</td>\n",
       "      <td>1.111872</td>\n",
       "      <td>0.991389</td>\n",
       "      <td>0.631393</td>\n",
       "      <td>0.768642</td>\n",
       "      <td>0.216305</td>\n",
       "      <td>0.093381</td>\n",
       "      <td>0.089517</td>\n",
       "      <td>0.029494</td>\n",
       "      <td>NaN</td>\n",
       "    </tr>\n",
       "    <tr>\n",
       "      <th>1</th>\n",
       "      <td>2009-12-17</td>\n",
       "      <td>1.208991</td>\n",
       "      <td>1.072976</td>\n",
       "      <td>1.068259</td>\n",
       "      <td>1.589744</td>\n",
       "      <td>1.582386</td>\n",
       "      <td>1.673529</td>\n",
       "      <td>1.725637</td>\n",
       "      <td>1.746224</td>\n",
       "      <td>1.849530</td>\n",
       "      <td>...</td>\n",
       "      <td>1.208991</td>\n",
       "      <td>1.104167</td>\n",
       "      <td>0.938166</td>\n",
       "      <td>0.608850</td>\n",
       "      <td>0.607427</td>\n",
       "      <td>0.172903</td>\n",
       "      <td>0.095181</td>\n",
       "      <td>0.027119</td>\n",
       "      <td>-0.023631</td>\n",
       "      <td>NaN</td>\n",
       "    </tr>\n",
       "    <tr>\n",
       "      <th>2</th>\n",
       "      <td>2009-12-18</td>\n",
       "      <td>1.068415</td>\n",
       "      <td>1.063709</td>\n",
       "      <td>1.584046</td>\n",
       "      <td>1.576705</td>\n",
       "      <td>1.667647</td>\n",
       "      <td>1.719640</td>\n",
       "      <td>1.740181</td>\n",
       "      <td>1.843260</td>\n",
       "      <td>1.949593</td>\n",
       "      <td>...</td>\n",
       "      <td>1.119159</td>\n",
       "      <td>1.169856</td>\n",
       "      <td>0.837893</td>\n",
       "      <td>0.609583</td>\n",
       "      <td>0.587052</td>\n",
       "      <td>0.169568</td>\n",
       "      <td>0.079762</td>\n",
       "      <td>0.010022</td>\n",
       "      <td>-0.019459</td>\n",
       "      <td>NaN</td>\n",
       "    </tr>\n",
       "    <tr>\n",
       "      <th>3</th>\n",
       "      <td>2009-12-21</td>\n",
       "      <td>1.026166</td>\n",
       "      <td>1.537037</td>\n",
       "      <td>1.529830</td>\n",
       "      <td>1.619118</td>\n",
       "      <td>1.670165</td>\n",
       "      <td>1.690332</td>\n",
       "      <td>1.791536</td>\n",
       "      <td>1.895935</td>\n",
       "      <td>1.948675</td>\n",
       "      <td>...</td>\n",
       "      <td>1.058960</td>\n",
       "      <td>1.083041</td>\n",
       "      <td>0.719112</td>\n",
       "      <td>0.614687</td>\n",
       "      <td>0.515745</td>\n",
       "      <td>0.130794</td>\n",
       "      <td>0.099383</td>\n",
       "      <td>-0.004472</td>\n",
       "      <td>-0.020352</td>\n",
       "      <td>NaN</td>\n",
       "    </tr>\n",
       "    <tr>\n",
       "      <th>4</th>\n",
       "      <td>2009-12-22</td>\n",
       "      <td>1.508547</td>\n",
       "      <td>1.501420</td>\n",
       "      <td>1.589706</td>\n",
       "      <td>1.640180</td>\n",
       "      <td>1.660121</td>\n",
       "      <td>1.760188</td>\n",
       "      <td>1.863415</td>\n",
       "      <td>1.915563</td>\n",
       "      <td>1.949749</td>\n",
       "      <td>...</td>\n",
       "      <td>1.071765</td>\n",
       "      <td>0.969799</td>\n",
       "      <td>0.636617</td>\n",
       "      <td>0.587917</td>\n",
       "      <td>0.498723</td>\n",
       "      <td>0.125240</td>\n",
       "      <td>0.100625</td>\n",
       "      <td>0.022055</td>\n",
       "      <td>-0.029217</td>\n",
       "      <td>NaN</td>\n",
       "    </tr>\n",
       "  </tbody>\n",
       "</table>\n",
       "<p>5 rows × 33 columns</p>\n",
       "</div>"
      ],
      "text/plain": [
       "  Unnamed: 0.1        T1        T2        T3        T4        T5        T6  \\\n",
       "0   2009-12-16  1.250608  1.247874  1.109464  1.104664  1.635328  1.627841   \n",
       "1   2009-12-17  1.208991  1.072976  1.068259  1.589744  1.582386  1.673529   \n",
       "2   2009-12-18  1.068415  1.063709  1.584046  1.576705  1.667647  1.719640   \n",
       "3   2009-12-21  1.026166  1.537037  1.529830  1.619118  1.670165  1.690332   \n",
       "4   2009-12-22  1.508547  1.501420  1.589706  1.640180  1.660121  1.760188   \n",
       "\n",
       "         T7        T8        T9  ...       T23       T24       T25       T26  \\\n",
       "0  1.720588  1.773613  1.794562  ...  1.300995  1.111872  0.991389  0.631393   \n",
       "1  1.725637  1.746224  1.849530  ...  1.208991  1.104167  0.938166  0.608850   \n",
       "2  1.740181  1.843260  1.949593  ...  1.119159  1.169856  0.837893  0.609583   \n",
       "3  1.791536  1.895935  1.948675  ...  1.058960  1.083041  0.719112  0.614687   \n",
       "4  1.863415  1.915563  1.949749  ...  1.071765  0.969799  0.636617  0.587917   \n",
       "\n",
       "        T27       T28       T29       T30       T31  Label  \n",
       "0  0.768642  0.216305  0.093381  0.089517  0.029494    NaN  \n",
       "1  0.607427  0.172903  0.095181  0.027119 -0.023631    NaN  \n",
       "2  0.587052  0.169568  0.079762  0.010022 -0.019459    NaN  \n",
       "3  0.515745  0.130794  0.099383 -0.004472 -0.020352    NaN  \n",
       "4  0.498723  0.125240  0.100625  0.022055 -0.029217    NaN  \n",
       "\n",
       "[5 rows x 33 columns]"
      ]
     },
     "execution_count": 4,
     "metadata": {},
     "output_type": "execute_result"
    }
   ],
   "source": [
    "data.head(5)"
   ]
  },
  {
   "cell_type": "code",
   "execution_count": 5,
   "metadata": {},
   "outputs": [
    {
     "name": "stdout",
     "output_type": "stream",
     "text": [
      "(368701, 33) (123972, 33)\n",
      "(368625, 33) (123906, 33)\n"
     ]
    }
   ],
   "source": [
    "START = \"2015-01-01\"\n",
    "MIDDLE = \"2018-01-01\"\n",
    "END = \"2019-01-01\"\n",
    "training_data = data[(data[\"Unnamed: 0.1\"] >= START) & (data[\"Unnamed: 0.1\"] < MIDDLE)]\n",
    "testing_data = data[(data[\"Unnamed: 0.1\"] >= MIDDLE) & (data[\"Unnamed: 0.1\"] < END)]\n",
    "print(training_data.shape, testing_data.shape)\n",
    "\n",
    "training_data = training_data.dropna()\n",
    "testing_data = testing_data.dropna()\n",
    "print(training_data.shape, testing_data.shape)"
   ]
  },
  {
   "cell_type": "code",
   "execution_count": 6,
   "metadata": {},
   "outputs": [],
   "source": [
    "def f(x):\n",
    "    if x == False:\n",
    "        return 0\n",
    "    return 1\n",
    "columns = [\"T\"+str(i) for i in range(1,32)]"
   ]
  },
  {
   "cell_type": "code",
   "execution_count": 7,
   "metadata": {},
   "outputs": [],
   "source": [
    "Y_training = training_data['Label'].apply(lambda x: f(x))\n",
    "y_training = np.asanyarray(Y_training)\n",
    "Y_testing = testing_data['Label'].apply(lambda x: f(x))\n",
    "y_testing = np.asanyarray(Y_testing)"
   ]
  },
  {
   "cell_type": "code",
   "execution_count": 8,
   "metadata": {},
   "outputs": [],
   "source": [
    "X_training = np.asanyarray(training_data[columns])\n",
    "X_testing = np.asanyarray(testing_data[columns])"
   ]
  },
  {
   "cell_type": "code",
   "execution_count": 9,
   "metadata": {},
   "outputs": [],
   "source": [
    "from sklearn.ensemble import RandomForestClassifier\n",
    "from sklearn.ensemble import GradientBoostingClassifier\n",
    "from sklearn.metrics import r2_score\n",
    "from joblib import dump, load"
   ]
  },
  {
   "cell_type": "code",
   "execution_count": 10,
   "metadata": {},
   "outputs": [],
   "source": [
    "# model_RF = RandomForestClassifier(n_estimators = 1000, max_depth=20, max_features = \"sqrt\", random_state=0)\n",
    "# model_RF.fit(X_training, y_training)"
   ]
  },
  {
   "cell_type": "code",
   "execution_count": 11,
   "metadata": {},
   "outputs": [],
   "source": [
    "# dump(model_RF, 'RandomForest2018.joblib')"
   ]
  },
  {
   "cell_type": "code",
   "execution_count": 12,
   "metadata": {},
   "outputs": [],
   "source": [
    "model_RF = load('RandomForest2018.joblib')"
   ]
  },
  {
   "cell_type": "code",
   "execution_count": 13,
   "metadata": {},
   "outputs": [
    {
     "name": "stdout",
     "output_type": "stream",
     "text": [
      "Random Forest Accuracy: 0.6841234484205769\n"
     ]
    }
   ],
   "source": [
    "y_hat = model_RF.predict(X_testing)\n",
    "print(\"Random Forest Accuracy:\", (y_testing == y_hat).mean())"
   ]
  },
  {
   "cell_type": "code",
   "execution_count": 14,
   "metadata": {},
   "outputs": [],
   "source": [
    "# model_GBT = GradientBoostingClassifier(\n",
    "#                             n_estimators = 100,\n",
    "#                             max_depth = 3,\n",
    "#                             learning_rate = 0.1,\n",
    "#                             min_samples_split = 15)\n",
    "# model_GBT.fit(X_training, y_training)"
   ]
  },
  {
   "cell_type": "code",
   "execution_count": 15,
   "metadata": {},
   "outputs": [],
   "source": [
    "# dump(model_GBT, 'GBT_2018.joblib')"
   ]
  },
  {
   "cell_type": "code",
   "execution_count": 16,
   "metadata": {},
   "outputs": [],
   "source": [
    "model_GBT = load('GBT_2018.joblib')"
   ]
  },
  {
   "cell_type": "code",
   "execution_count": 17,
   "metadata": {},
   "outputs": [
    {
     "name": "stdout",
     "output_type": "stream",
     "text": [
      "Gradient Boost Trees: 0.6840104595419108\n"
     ]
    }
   ],
   "source": [
    "y_hat = model_GBT.predict(X_testing)\n",
    "print(\"Gradient Boost Trees:\", (y_testing == y_hat).mean())"
   ]
  },
  {
   "cell_type": "code",
   "execution_count": null,
   "metadata": {},
   "outputs": [],
   "source": []
  }
 ],
 "metadata": {
  "kernelspec": {
   "display_name": "Python 3",
   "language": "python",
   "name": "python3"
  },
  "language_info": {
   "codemirror_mode": {
    "name": "ipython",
    "version": 3
   },
   "file_extension": ".py",
   "mimetype": "text/x-python",
   "name": "python",
   "nbconvert_exporter": "python",
   "pygments_lexer": "ipython3",
   "version": "3.6.10"
  }
 },
 "nbformat": 4,
 "nbformat_minor": 4
}
